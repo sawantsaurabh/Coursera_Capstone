{
    "nbformat_minor": 2, 
    "cells": [
        {
            "source": "Code to extract data from wiki ", 
            "cell_type": "markdown", 
            "metadata": {}
        }, 
        {
            "execution_count": 2, 
            "cell_type": "code", 
            "metadata": {}, 
            "outputs": [], 
            "source": "import requests\nwebsite_url=requests.get('https://en.wikipedia.org/wiki/List_of_postal_codes_of_Canada:_M').text\nfrom bs4 import BeautifulSoup\nimport pandas as pd\nsoup = BeautifulSoup(website_url,'lxml')"
        }, 
        {
            "source": "Extracting table and storing it into dataframe", 
            "cell_type": "markdown", 
            "metadata": {}
        }, 
        {
            "execution_count": 3, 
            "cell_type": "code", 
            "metadata": {}, 
            "outputs": [
                {
                    "execution_count": 3, 
                    "metadata": {}, 
                    "data": {
                        "text/plain": "(289, 3)"
                    }, 
                    "output_type": "execute_result"
                }
            ], 
            "source": "postcode=[]\nborough=[]\nneighbourhood=[]\nfor items in soup.find('table', class_='wikitable sortable').find_all('tr')[1::1]:\n    data = items.find_all(['th','td'])\n    try:\n        postcode.append(data[0].text)        \n        borough.append(data[1].text)\n        neighbourhood.append(data[2].text)\n    except IndexError:pass\n#    print(\"{}|{}|{}\".format(country,title,name))\n\npostal_code_canada = pd.DataFrame(\n    {'Postcode': postcode,\n     'Borough': borough,\n     'Neighbourhood': neighbourhood\n    })\npostal_code_canada.shape"
        }, 
        {
            "source": "Aggregating data on the basis of \"Neighbourhood\"", 
            "cell_type": "markdown", 
            "metadata": {}
        }, 
        {
            "execution_count": 4, 
            "cell_type": "code", 
            "metadata": {}, 
            "outputs": [
                {
                    "output_type": "stream", 
                    "name": "stdout", 
                    "text": "   Postcode       Borough                                      Neighbourhood\n0       M1A  Not assigned                                     Not assigned\\n\n1       M1B   Scarborough                                 Rouge\\n, Malvern\\n\n2       M1C   Scarborough       Highland Creek\\n, Rouge Hill\\n, Port Union\\n\n3       M1E   Scarborough            Guildwood\\n, Morningside\\n, West Hill\\n\n4       M1G   Scarborough                                           Woburn\\n\n5       M1H   Scarborough                                        Cedarbrae\\n\n6       M1J   Scarborough                              Scarborough Village\\n\n7       M1K   Scarborough  East Birchmount Park\\n, Ionview\\n, Kennedy Park\\n\n8       M1L   Scarborough              Clairlea\\n, Golden Mile\\n, Oakridge\\n\n9       M1M   Scarborough  Cliffcrest\\n, Cliffside\\n, Scarborough Village...\n10      M1N   Scarborough                    Birch Cliff\\n, Cliffside West\\n\n11      M1P   Scarborough  Dorset Park\\n, Scarborough Town Centre\\n, Wexf...\n12      M1R   Scarborough                              Maryvale\\n, Wexford\\n\n13      M1S   Scarborough                                        Agincourt\\n\n14      M1T   Scarborough      Clarks Corners\\n, Sullivan\\n, Tam O'Shanter\\n\n15      M1V   Scarborough  Agincourt North\\n, L'Amoreaux East\\n, Milliken...\n16      M1W   Scarborough                  L'Amoreaux West\\n, Steeles West\\n\n17      M1X   Scarborough                                      Upper Rouge\\n\n18      M1Y  Not assigned                                     Not assigned\\n\n19      M1Z  Not assigned                                     Not assigned\\n\n"
                }
            ], 
            "source": "postal_code_canada_1=pd.DataFrame(postal_code_canada.groupby(['Postcode','Borough']).Neighbourhood.agg([('Neighbourhood', ', '.join)])).reset_index()\nprint(postal_code_canada_1.head(20))"
        }, 
        {
            "source": "Replacing \"Neighbourhood\" column data with \"Borough\" where \"Neighbourhood\"== \"Not assigned\\n\"", 
            "cell_type": "markdown", 
            "metadata": {}
        }, 
        {
            "execution_count": 5, 
            "cell_type": "code", 
            "metadata": {}, 
            "outputs": [
                {
                    "ename": "NameError", 
                    "evalue": "name 'postal_code_canada_1' is not defined", 
                    "traceback": [
                        "\u001b[0;31m---------------------------------------------------------------------------\u001b[0m", 
                        "\u001b[0;31mNameError\u001b[0m                                 Traceback (most recent call last)", 
                        "\u001b[0;32m<ipython-input-5-97db4cdcad57>\u001b[0m in \u001b[0;36m<module>\u001b[0;34m()\u001b[0m\n\u001b[0;32m----> 1\u001b[0;31m \u001b[0;32mfor\u001b[0m \u001b[0midx\u001b[0m\u001b[0;34m,\u001b[0m\u001b[0mrow\u001b[0m \u001b[0;32min\u001b[0m \u001b[0mpostal_code_canada_1\u001b[0m\u001b[0;34m.\u001b[0m\u001b[0miterrows\u001b[0m\u001b[0;34m(\u001b[0m\u001b[0;34m)\u001b[0m\u001b[0;34m:\u001b[0m\u001b[0;34m\u001b[0m\u001b[0m\n\u001b[0m\u001b[1;32m      2\u001b[0m     \u001b[0;32mif\u001b[0m  \u001b[0mpostal_code_canada_1\u001b[0m\u001b[0;34m.\u001b[0m\u001b[0mloc\u001b[0m\u001b[0;34m[\u001b[0m\u001b[0midx\u001b[0m\u001b[0;34m,\u001b[0m\u001b[0;34m'Neighbourhood'\u001b[0m\u001b[0;34m]\u001b[0m \u001b[0;34m==\u001b[0m \u001b[0;34m'Not assigned\\n'\u001b[0m\u001b[0;34m:\u001b[0m\u001b[0;34m\u001b[0m\u001b[0m\n\u001b[1;32m      3\u001b[0m         \u001b[0mpostal_code_canada_1\u001b[0m\u001b[0;34m.\u001b[0m\u001b[0mloc\u001b[0m\u001b[0;34m[\u001b[0m\u001b[0midx\u001b[0m\u001b[0;34m,\u001b[0m\u001b[0;34m'Neighbourhood'\u001b[0m\u001b[0;34m]\u001b[0m \u001b[0;34m=\u001b[0m \u001b[0mpostal_code_canada_1\u001b[0m\u001b[0;34m.\u001b[0m\u001b[0mloc\u001b[0m\u001b[0;34m[\u001b[0m\u001b[0midx\u001b[0m\u001b[0;34m,\u001b[0m\u001b[0;34m'Borough'\u001b[0m\u001b[0;34m]\u001b[0m\u001b[0;34m\u001b[0m\u001b[0m\n", 
                        "\u001b[0;31mNameError\u001b[0m: name 'postal_code_canada_1' is not defined"
                    ], 
                    "output_type": "error"
                }
            ], 
            "source": "for idx,row in postal_code_canada_1.iterrows():\n    if  postal_code_canada_1.loc[idx,'Neighbourhood'] == 'Not assigned\\n':\n        postal_code_canada_1.loc[idx,'Neighbourhood'] = postal_code_canada_1.loc[idx,'Borough']"
        }, 
        {
            "execution_count": 6, 
            "cell_type": "code", 
            "metadata": {}, 
            "outputs": [
                {
                    "execution_count": 6, 
                    "metadata": {}, 
                    "data": {
                        "text/html": "<div>\n<style scoped>\n    .dataframe tbody tr th:only-of-type {\n        vertical-align: middle;\n    }\n\n    .dataframe tbody tr th {\n        vertical-align: top;\n    }\n\n    .dataframe thead th {\n        text-align: right;\n    }\n</style>\n<table border=\"1\" class=\"dataframe\">\n  <thead>\n    <tr style=\"text-align: right;\">\n      <th></th>\n      <th>Postcode</th>\n      <th>Borough</th>\n      <th>Neighbourhood</th>\n    </tr>\n  </thead>\n  <tbody>\n    <tr>\n      <th>120</th>\n      <td>M7A</td>\n      <td>Queen's Park</td>\n      <td>Queen's Park</td>\n    </tr>\n  </tbody>\n</table>\n</div>", 
                        "text/plain": "    Postcode       Borough Neighbourhood\n120      M7A  Queen's Park  Queen's Park"
                    }, 
                    "output_type": "execute_result"
                }
            ], 
            "source": "postal_code_canada_1.loc[postal_code_canada_1['Postcode'] == 'M7A']"
        }, 
        {
            "execution_count": 4, 
            "cell_type": "code", 
            "metadata": {}, 
            "outputs": [
                {
                    "ename": "NameError", 
                    "evalue": "name 'postal_code_canada_1' is not defined", 
                    "traceback": [
                        "\u001b[0;31m---------------------------------------------------------------------------\u001b[0m", 
                        "\u001b[0;31mNameError\u001b[0m                                 Traceback (most recent call last)", 
                        "\u001b[0;32m<ipython-input-4-11a1e3666195>\u001b[0m in \u001b[0;36m<module>\u001b[0;34m()\u001b[0m\n\u001b[0;32m----> 1\u001b[0;31m \u001b[0mpostal_code_canada_1\u001b[0m\u001b[0;34m.\u001b[0m\u001b[0mhead\u001b[0m\u001b[0;34m(\u001b[0m\u001b[0;36m103\u001b[0m\u001b[0;34m)\u001b[0m\u001b[0;34m.\u001b[0m\u001b[0mshape\u001b[0m\u001b[0;34m\u001b[0m\u001b[0m\n\u001b[0m", 
                        "\u001b[0;31mNameError\u001b[0m: name 'postal_code_canada_1' is not defined"
                    ], 
                    "output_type": "error"
                }
            ], 
            "source": "postal_code_canada_1.head(103).shape\n"
        }, 
        {
            "execution_count": null, 
            "cell_type": "code", 
            "metadata": {}, 
            "outputs": [], 
            "source": ""
        }
    ], 
    "metadata": {
        "kernelspec": {
            "display_name": "Python 3.5", 
            "name": "python3", 
            "language": "python"
        }, 
        "language_info": {
            "mimetype": "text/x-python", 
            "nbconvert_exporter": "python", 
            "version": "3.5.5", 
            "name": "python", 
            "file_extension": ".py", 
            "pygments_lexer": "ipython3", 
            "codemirror_mode": {
                "version": 3, 
                "name": "ipython"
            }
        }
    }, 
    "nbformat": 4
}