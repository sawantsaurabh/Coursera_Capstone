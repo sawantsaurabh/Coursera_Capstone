{
 "cells": [
  {
   "cell_type": "markdown",
   "metadata": {},
   "source": [
    "Code to extract data from wiki "
   ]
  },
  {
   "cell_type": "code",
   "execution_count": 2,
   "metadata": {},
   "outputs": [],
   "source": [
    "import requests\n",
    "website_url=requests.get('https://en.wikipedia.org/wiki/List_of_postal_codes_of_Canada:_M').text\n",
    "from bs4 import BeautifulSoup\n",
    "import pandas as pd\n",
    "soup = BeautifulSoup(website_url,'lxml')"
   ]
  },
  {
   "cell_type": "markdown",
   "metadata": {},
   "source": [
    "Extracting table and storing it into dataframe"
   ]
  },
  {
   "cell_type": "code",
   "execution_count": 3,
   "metadata": {},
   "outputs": [],
   "source": [
    "postcode=[]\n",
    "borough=[]\n",
    "neighbourhood=[]\n",
    "for items in soup.find('table', class_='wikitable sortable').find_all('tr')[1::1]:\n",
    "    data = items.find_all(['th','td'])\n",
    "    try:\n",
    "        postcode.append(data[0].text)        \n",
    "        borough.append(data[1].text)\n",
    "        neighbourhood.append(data[2].text)\n",
    "    except IndexError:pass\n",
    "#    print(\"{}|{}|{}\".format(country,title,name))\n",
    "\n",
    "postal_code_canada = pd.DataFrame(\n",
    "    {'Postcode': postcode,\n",
    "     'Borough': borough,\n",
    "     'Neighbourhood': neighbourhood\n",
    "    })\n"
   ]
  },
  {
   "cell_type": "markdown",
   "metadata": {},
   "source": [
    "Aggregating data on the basis of \"Neighbourhood\""
   ]
  },
  {
   "cell_type": "code",
   "execution_count": 4,
   "metadata": {},
   "outputs": [
    {
     "name": "stdout",
     "output_type": "stream",
     "text": [
      "   Postcode       Borough                                      Neighbourhood\n",
      "0       M1A  Not assigned                                     Not assigned\\n\n",
      "1       M1B   Scarborough                                 Rouge\\n, Malvern\\n\n",
      "2       M1C   Scarborough       Highland Creek\\n, Rouge Hill\\n, Port Union\\n\n",
      "3       M1E   Scarborough            Guildwood\\n, Morningside\\n, West Hill\\n\n",
      "4       M1G   Scarborough                                           Woburn\\n\n",
      "5       M1H   Scarborough                                        Cedarbrae\\n\n",
      "6       M1J   Scarborough                              Scarborough Village\\n\n",
      "7       M1K   Scarborough  East Birchmount Park\\n, Ionview\\n, Kennedy Park\\n\n",
      "8       M1L   Scarborough              Clairlea\\n, Golden Mile\\n, Oakridge\\n\n",
      "9       M1M   Scarborough  Cliffcrest\\n, Cliffside\\n, Scarborough Village...\n",
      "10      M1N   Scarborough                    Birch Cliff\\n, Cliffside West\\n\n",
      "11      M1P   Scarborough  Dorset Park\\n, Scarborough Town Centre\\n, Wexf...\n",
      "12      M1R   Scarborough                              Maryvale\\n, Wexford\\n\n",
      "13      M1S   Scarborough                                        Agincourt\\n\n",
      "14      M1T   Scarborough      Clarks Corners\\n, Sullivan\\n, Tam O'Shanter\\n\n",
      "15      M1V   Scarborough  Agincourt North\\n, L'Amoreaux East\\n, Milliken...\n",
      "16      M1W   Scarborough                  L'Amoreaux West\\n, Steeles West\\n\n",
      "17      M1X   Scarborough                                      Upper Rouge\\n\n",
      "18      M1Y  Not assigned                                     Not assigned\\n\n",
      "19      M1Z  Not assigned                                     Not assigned\\n\n"
     ]
    }
   ],
   "source": [
    "postal_code_canada_1=pd.DataFrame(postal_code_canada.groupby(['Postcode','Borough']).Neighbourhood.agg([('Neighbourhood', ', '.join)])).reset_index()\n",
    "print(postal_code_canada_1.head(20))"
   ]
  },
  {
   "cell_type": "markdown",
   "metadata": {},
   "source": [
    "Replacing \"Neighbourhood\" column data with \"Borough\" where \"Neighbourhood\"== \"Not assigned\\n\""
   ]
  },
  {
   "cell_type": "code",
   "execution_count": 5,
   "metadata": {},
   "outputs": [],
   "source": [
    "for idx,row in postal_code_canada_1.iterrows():\n",
    "    if  postal_code_canada_1.loc[idx,'Neighbourhood'] == 'Not assigned\\n':\n",
    "        postal_code_canada_1.loc[idx,'Neighbourhood'] = postal_code_canada_1.loc[idx,'Borough']"
   ]
  },
  {
   "cell_type": "code",
   "execution_count": 6,
   "metadata": {},
   "outputs": [
    {
     "data": {
      "text/html": [
       "<div>\n",
       "<style scoped>\n",
       "    .dataframe tbody tr th:only-of-type {\n",
       "        vertical-align: middle;\n",
       "    }\n",
       "\n",
       "    .dataframe tbody tr th {\n",
       "        vertical-align: top;\n",
       "    }\n",
       "\n",
       "    .dataframe thead th {\n",
       "        text-align: right;\n",
       "    }\n",
       "</style>\n",
       "<table border=\"1\" class=\"dataframe\">\n",
       "  <thead>\n",
       "    <tr style=\"text-align: right;\">\n",
       "      <th></th>\n",
       "      <th>Postcode</th>\n",
       "      <th>Borough</th>\n",
       "      <th>Neighbourhood</th>\n",
       "    </tr>\n",
       "  </thead>\n",
       "  <tbody>\n",
       "    <tr>\n",
       "      <th>120</th>\n",
       "      <td>M7A</td>\n",
       "      <td>Queen's Park</td>\n",
       "      <td>Queen's Park</td>\n",
       "    </tr>\n",
       "  </tbody>\n",
       "</table>\n",
       "</div>"
      ],
      "text/plain": [
       "    Postcode       Borough Neighbourhood\n",
       "120      M7A  Queen's Park  Queen's Park"
      ]
     },
     "execution_count": 6,
     "metadata": {},
     "output_type": "execute_result"
    }
   ],
   "source": [
    "postal_code_canada_1.loc[postal_code_canada_1['Postcode'] == 'M7A']"
   ]
  },
  {
   "cell_type": "code",
   "execution_count": 7,
   "metadata": {},
   "outputs": [
    {
     "data": {
      "text/plain": [
       "(180, 3)"
      ]
     },
     "execution_count": 7,
     "metadata": {},
     "output_type": "execute_result"
    }
   ],
   "source": [
    "postal_code_canada_1.shape\n"
   ]
  },
  {
   "cell_type": "code",
   "execution_count": null,
   "metadata": {},
   "outputs": [],
   "source": []
  }
 ],
 "metadata": {
  "kernelspec": {
   "display_name": "Python 3",
   "language": "python",
   "name": "python3"
  },
  "language_info": {
   "codemirror_mode": {
    "name": "ipython",
    "version": 3
   },
   "file_extension": ".py",
   "mimetype": "text/x-python",
   "name": "python",
   "nbconvert_exporter": "python",
   "pygments_lexer": "ipython3",
   "version": "3.6.5"
  }
 },
 "nbformat": 4,
 "nbformat_minor": 2
}
